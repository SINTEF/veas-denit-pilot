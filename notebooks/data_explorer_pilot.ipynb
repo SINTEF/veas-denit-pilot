{
 "cells": [
  {
   "cell_type": "code",
   "execution_count": null,
   "metadata": {
    "pycharm": {
     "name": "#%%\n"
    }
   },
   "outputs": [],
   "source": [
    "%load_ext autoreload\n",
    "%autoreload 2"
   ]
  },
  {
   "cell_type": "code",
   "execution_count": null,
   "metadata": {
    "pycharm": {
     "name": "#%%\n"
    }
   },
   "outputs": [],
   "source": [
    "import os\n",
    "\n",
    "import pyrootutils\n",
    "\n",
    "root = pyrootutils.setup_root(\n",
    "    search_from=os.getcwd(),\n",
    "    indicator=\".project-root\",\n",
    "    pythonpath=True,\n",
    "    dotenv=True,\n",
    ")"
   ]
  },
  {
   "cell_type": "code",
   "execution_count": null,
   "metadata": {
    "pycharm": {
     "name": "#%%\n"
    }
   },
   "outputs": [],
   "source": [
    "import darts.dataprocessing.encoders\n",
    "import darts.utils.statistics\n",
    "import hydra.utils\n",
    "import matplotlib\n",
    "import matplotlib.pyplot as plt\n",
    "import numpy as np\n",
    "import pandas as pd\n",
    "import seaborn as sns\n",
    "\n",
    "import src.utils\n",
    "import src.utils.plotting\n",
    "\n",
    "# %matplotlib inline\n",
    "# %matplotlib notebook"
   ]
  },
  {
   "cell_type": "markdown",
   "metadata": {
    "pycharm": {
     "name": "#%% md\n"
    }
   },
   "source": [
    "# Configuration"
   ]
  },
  {
   "cell_type": "code",
   "execution_count": null,
   "metadata": {
    "pycharm": {
     "name": "#%%\n"
    }
   },
   "outputs": [],
   "source": [
    "def get_config(overrides=None):\n",
    "    config_path = os.path.join(\n",
    "        \"..\", \"..\", \"configs\", \"train.yaml\"\n",
    "    )  # NB: relative to <project_root>/src/utils (must be relative path)\n",
    "\n",
    "    config_overrides_dot = [  # same notation as for cli overrides (dot notation). Useful for changing whole modules, e.g. change which datamodule file is loaded\n",
    "        \"datamodule=veas_pilot\",\n",
    "    ]\n",
    "    if overrides is not None:\n",
    "        config_overrides_dot.extend(overrides)\n",
    "    config_overrides_dict = (\n",
    "        dict()\n",
    "    )  # Dictionary with overrides. Useful for larger changes/additions/deletions that does not exist as entire files.\n",
    "\n",
    "    cfg = src.utils.initialize_hydra(\n",
    "        config_path,\n",
    "        config_overrides_dot,\n",
    "        config_overrides_dict,\n",
    "        return_hydra_config=False,\n",
    "        print_config=False,\n",
    "    )  # print config to inspect if all settings are as expected\n",
    "\n",
    "    return cfg"
   ]
  },
  {
   "cell_type": "code",
   "execution_count": null,
   "metadata": {
    "pycharm": {
     "name": "#%%\n"
    }
   },
   "outputs": [],
   "source": [
    "show_encoders = False\n",
    "cfg = get_config([\"experiment=veas_pilot_test\"])\n",
    "datamodule = hydra.utils.instantiate(cfg.datamodule, _convert_=\"partial\")\n",
    "datamodule.setup(\"fit\")\n",
    "\n",
    "if show_encoders and cfg.model.get(\"add_encoders\") is not None:\n",
    "    encoders = darts.dataprocessing.encoders.SequentialEncoder(\n",
    "        hydra.utils.instantiate(cfg.model.add_encoders),\n",
    "        takes_past_covariates=True,\n",
    "        takes_future_covariates=True,\n",
    "    )\n",
    "else:\n",
    "    encoders = None"
   ]
  },
  {
   "cell_type": "markdown",
   "metadata": {
    "pycharm": {
     "name": "#%% md\n"
    }
   },
   "source": [
    "# Data Exploration"
   ]
  },
  {
   "cell_type": "markdown",
   "metadata": {
    "pycharm": {
     "name": "#%% md\n"
    }
   },
   "source": [
    "## Plot Nitrate"
   ]
  },
  {
   "cell_type": "code",
   "execution_count": null,
   "metadata": {
    "pycharm": {
     "name": "#%%\n"
    }
   },
   "outputs": [],
   "source": [
    "src.utils.plotting.set_matplotlib_attributes(font_size=8)\n",
    "nitrate_cfg = get_config()\n",
    "nitrate_datamodule = hydra.utils.instantiate(nitrate_cfg.datamodule, _convert_=\"partial\")\n",
    "nitrate_datamodule.setup(\"fit\")\n",
    "# If slice = None, plot all data. If slice is not None, only plot data within (start_time, end_time)\n",
    "slice = None  # (pd.Timestamp(\"1966\"), pd.Timestamp(\"1975\")) # None\n",
    "fig = nitrate_datamodule.plot_data(presenter=None, slice=slice)\n",
    "og_legend = None"
   ]
  },
  {
   "cell_type": "code",
   "execution_count": null,
   "metadata": {},
   "outputs": [],
   "source": [
    "[p for p_i, p in enumerate(fig[0].axes[0].patches) if p_i in [0, 2, 11]]"
   ]
  },
  {
   "cell_type": "code",
   "execution_count": null,
   "metadata": {},
   "outputs": [],
   "source": [
    "data_fig_path = os.path.join(\"..\", \"figures\", \"pilot\")\n",
    "data_plot_height = 6\n",
    "src.utils.plotting.set_matplotlib_attributes(font_size=8)\n",
    "ax = fig[0].axes[0]\n",
    "if og_legend is None:\n",
    "    og_legend = ax.legend()\n",
    "src.utils.plotting.set_figure_size(fig[0], \"double\", height=data_plot_height)\n",
    "ax.set_title(\"Nitrate out\")\n",
    "ax.set_ylabel(\"Nitrate concentration [mg/l]\")\n",
    "ax.set_xlabel(\"\")\n",
    "ax.legend(\n",
    "    handles=[p for p_i, p in enumerate(fig[0].axes[0].patches) if p_i in [0, 5, 11]],\n",
    "    labels=[\"Train\", \"Val\", \"Test\"],\n",
    ")\n",
    "src.utils.plotting.save_figure(fig[0], os.path.join(data_fig_path, \"nitrate_out\"))\n",
    "fig[0]"
   ]
  },
  {
   "cell_type": "markdown",
   "metadata": {},
   "source": "## Nitrate in and removal"
  },
  {
   "cell_type": "code",
   "execution_count": null,
   "metadata": {},
   "outputs": [],
   "source": [
    "cfg_with_waterflow = get_config([\"datamodule.data_variables.future_covariates=[waterflow]\"])\n",
    "flow_datamodule = hydra.utils.instantiate(cfg_with_waterflow.datamodule, _convert_=\"partial\")\n",
    "flow_datamodule.setup(\"fit\")"
   ]
  },
  {
   "cell_type": "code",
   "execution_count": null,
   "metadata": {},
   "outputs": [],
   "source": [
    "f, axs = plt.subplots(3, 1, sharex=True)\n",
    "ax = axs[0]\n",
    "\n",
    "flow_rate_l_hour = 3.3 * 3600\n",
    "\n",
    "input_load = nitrate_datamodule.data[0][\"nitrate_in\"] * flow_rate_l_hour * 1 / 1e6  # (kg / 1e6 mg)\n",
    "input_load.plot(label=\"_nolegend_\", ax=ax)\n",
    "ax.set_xlabel(\"\")\n",
    "ax.set_title(\"Nitrate nitrogen loading rate\")\n",
    "ax.set_ylabel(\"Loading rate [kg N/h]\")\n",
    "\n",
    "ax = axs[1]\n",
    "pd_data = nitrate_datamodule.data[0].pd_dataframe()\n",
    "\n",
    "reduced_load = (\n",
    "    (pd_data[\"nitrate_in\"] - pd_data[\"nitrate_out\"]) * flow_rate_l_hour * 1 / 1e6\n",
    ")  # (kg / 1e6 mg)\n",
    "reduced_load[reduced_load < 0] = 0\n",
    "reduced_load = darts.timeseries.TimeSeries.from_dataframe(\n",
    "    pd.DataFrame({\"reduced_load\": reduced_load}),\n",
    ")\n",
    "reduced_load.plot(label=\"_nolegend_\", ax=ax)\n",
    "ax.set_xlabel(\"\")\n",
    "ax.set_title(\"Nitrate nitrogen reduction rate\")\n",
    "ax.set_ylabel(\"Reduction rate [kg N/h]\")\n",
    "\n",
    "ax = axs[2]\n",
    "\n",
    "nitrate_conversion = (pd_data[\"nitrate_in\"] - pd_data[\"nitrate_out\"]) / pd_data[\"nitrate_in\"]\n",
    "nitrate_conversion[nitrate_conversion > 1] = 1\n",
    "nitrate_conversion[nitrate_conversion < 0] = 0\n",
    "nitrate_conversion = darts.timeseries.TimeSeries.from_dataframe(\n",
    "    pd.DataFrame({\"nitrate_conversion\": nitrate_conversion}),\n",
    ")\n",
    "\n",
    "nitrate_conversion.plot(label=\"_nolegend_\", ax=ax)\n",
    "ax.set_xlabel(\"\")\n",
    "ax.set_ylabel(\"Nitrate reduction [-]\")\n",
    "ax.set_title(\"Degree of nitrate reduction\")\n",
    "f.align_ylabels()\n",
    "src.utils.plotting.set_figure_size(f, column_span=\"double\", height=15)\n",
    "src.utils.plotting.save_figure(f, os.path.join(data_fig_path, \"nitrate_rates_and_conversion\"))"
   ]
  },
  {
   "cell_type": "code",
   "execution_count": null,
   "metadata": {},
   "outputs": [],
   "source": [
    "nitrate_conversion.plot()"
   ]
  },
  {
   "cell_type": "code",
   "execution_count": null,
   "metadata": {},
   "outputs": [],
   "source": [
    "(pd_data[\"nitrate_in\"] - pd_data[\"nitrate_out\"]).plot()"
   ]
  },
  {
   "cell_type": "markdown",
   "metadata": {},
   "source": [
    "### Temperature Histogram for paper"
   ]
  },
  {
   "cell_type": "code",
   "execution_count": null,
   "metadata": {},
   "outputs": [],
   "source": [
    "src.utils.plotting.set_matplotlib_attributes()\n",
    "\n",
    "plot_type = \"hist\"\n",
    "density = False\n",
    "\n",
    "fig_folder = \"../figures/pilot/eda/\"\n",
    "\n",
    "data = {}\n",
    "\n",
    "\n",
    "for split in [\"train\", \"val\", \"test\"]:\n",
    "    data[split] = datamodule.get_data([\"future_covariates\"], main_split=split, transform=False)\n",
    "\n",
    "# fig, ax = plt.subplots(1, 1, figsize=(6, 4))\n",
    "# fix issue with transparency\n",
    "# ax.set_rasterized(True)\n",
    "\n",
    "split_names = [\"train\", \"val\", \"test\"]\n",
    "\n",
    "bins = np.linspace(6, 16, 50)\n",
    "bin_centers = 0.5 * (bins[:-1] + bins[1:])\n",
    "\n",
    "temp_data = dict()\n",
    "\n",
    "for split in split_names:\n",
    "    if split == \"test\":\n",
    "        split_temp_data = np.concatenate(\n",
    "            [\n",
    "                data[split][\"future_covariates\"][i][\"temp\"].all_values().squeeze()\n",
    "                for i in range(len(data[split][\"future_covariates\"]))\n",
    "            ]\n",
    "        )\n",
    "    else:\n",
    "        split_temp_data = data[split][\"future_covariates\"][\"temp\"].all_values().squeeze()\n",
    "    temp_data[split] = split_temp_data\n",
    "\n",
    "if plot_type == \"bar\":\n",
    "    for split in split_names:\n",
    "        temp_data[split], _ = np.histogram(split_temp_data, bins=bins)\n",
    "\n",
    "    df = pd.DataFrame(\n",
    "        {\n",
    "            \"Bin\": np.tile(bin_centers, 3),\n",
    "            \"Count\": np.concatenate([temp_data[split_name] for split_name in split_names]),\n",
    "            \"Dataset\": [\"train\"] * len(temp_data[\"train\"])\n",
    "            + [\"val\"] * len(temp_data[\"val\"])\n",
    "            + [\"test\"] * len(temp_data[\"test\"]),\n",
    "        }\n",
    "    )\n",
    "    sns.barplot(x=\"Bin\", y=\"Count\", hue=\"Dataset\", data=df)\n",
    "    # plt.title(\"Distribution of temperature\")\n",
    "    plt.xlabel(\"Temperature °C\")\n",
    "    xticks, xticklabels = plt.xticks()\n",
    "    plt.xticks(xticks[::3], [f\"{tick:.1f}\" for tick in bin_centers[::3]])\n",
    "elif plot_type == \"hist\":\n",
    "    df = pd.DataFrame(\n",
    "        {\n",
    "            \"Temp\": np.concatenate([temp_data[split_name] for split_name in split_names]),\n",
    "            \"Dataset\": [\"train\"] * len(temp_data[\"train\"])\n",
    "            + [\"val\"] * len(temp_data[\"val\"])\n",
    "            + [\"test\"] * len(temp_data[\"test\"]),\n",
    "        }\n",
    "    )\n",
    "    # density and common norm for equal sized distributions\n",
    "    if density:\n",
    "        ax = sns.histplot(\n",
    "            x=\"Temp\", hue=\"Dataset\", data=df, element=\"step\", stat=\"density\", common_norm=False\n",
    "        )\n",
    "    else:\n",
    "        ax = sns.histplot(x=\"Temp\", hue=\"Dataset\", data=df, element=\"step\")\n",
    "    ax.legend_.set_title(\"\")\n",
    "    sns.move_legend(ax, loc=(0.5, 0.6))\n",
    "plt.xlabel(\"Temperature\")\n",
    "fig = plt.gcf()\n",
    "src.utils.plotting.set_figure_size(fig, column_span=\"single\", height=5)\n",
    "src.utils.plotting.save_figure(fig, os.path.join(fig_folder, \"temperature_distribution\"))\n",
    "plt.show()"
   ]
  },
  {
   "cell_type": "markdown",
   "metadata": {},
   "source": [
    "## Autocorrelation over sets for paper"
   ]
  },
  {
   "cell_type": "code",
   "execution_count": null,
   "metadata": {},
   "outputs": [],
   "source": [
    "import statsmodels\n",
    "\n",
    "nlags = 144\n",
    "fig = plt.figure(figsize=(8, 4))\n",
    "\n",
    "for split in [\"train\", \"val\", \"test\"]:\n",
    "    split_data = datamodule.get_data([\"target\"], main_split=split, transform=False)[\"target\"]\n",
    "\n",
    "    if isinstance(split_data, list):\n",
    "        split_data = np.concatenate([sd.all_values().squeeze() for sd in split_data])\n",
    "    else:\n",
    "        split_data = split_data.all_values().squeeze()\n",
    "\n",
    "    split_ac = statsmodels.tsa.stattools.acf(split_data, nlags=nlags)\n",
    "    plt.plot(split_ac, label=split)\n",
    "\n",
    "plt.legend()\n",
    "xticks, xticklabels = plt.xticks()\n",
    "xticks = list(range(0, 145, 12))\n",
    "plt.xticks(xticks, [f\"{tick // 6:.0f}\" for tick in xticks])\n",
    "plt.xlabel(\"Length of input (hours)\")\n",
    "plt.ylabel(\"Autocorrelation\")\n",
    "src.utils.plotting.save_figure(fig, os.path.join(fig_folder, \"autocorrelation\"))\n",
    "plt.show()"
   ]
  },
  {
   "cell_type": "code",
   "execution_count": null,
   "metadata": {},
   "outputs": [],
   "source": [
    "split_ac = statsmodels.tsa.stattools.acf(split_data, nlags=144)"
   ]
  },
  {
   "cell_type": "code",
   "execution_count": null,
   "metadata": {},
   "outputs": [],
   "source": [
    "plt.plot(split_ac)"
   ]
  },
  {
   "cell_type": "markdown",
   "metadata": {
    "pycharm": {
     "name": "#%% md\n"
    }
   },
   "source": [
    "### Cross Correlation Matrix (aggregates over time)"
   ]
  },
  {
   "cell_type": "code",
   "execution_count": null,
   "metadata": {
    "pycharm": {
     "name": "#%%\n"
    }
   },
   "outputs": [],
   "source": [
    "src.utils.plotting.set_matplotlib_attributes(font_size=8)\n",
    "\n",
    "covariate_names = src.utils.plotting.get_covariate_plot_names()\n",
    "\n",
    "fig_path = \"../figures/pilot/eda/feature_correlations\"\n",
    "plot_together = False\n",
    "splits = [\"train\", \"val\", \"test\"]\n",
    "\n",
    "if plot_together:\n",
    "    fig, axs = plt.subplots(nrows=1, ncols=len(splits), figsize=(len(splits) * 6, 6), sharey=True)\n",
    "    axs = axs.ravel()\n",
    "\n",
    "# src.utils.plotting.set_figure_size(fig, column_span=\"double\" if plot_together else \"single\", height=6)\n",
    "\n",
    "for split_i, split in enumerate(splits):\n",
    "    split_data = datamodule._get_split_data_raw(split)\n",
    "\n",
    "    if isinstance(split_data, list):\n",
    "        df = pd.concat(series.pd_dataframe() for series in split_data)\n",
    "    else:\n",
    "        df = split_data.pd_dataframe()\n",
    "\n",
    "    df = df.rename(columns=covariate_names)\n",
    "    df = df[sorted(df.columns)]\n",
    "\n",
    "    if plot_together:\n",
    "        ax = axs[split_i]\n",
    "    else:\n",
    "        fig, ax = plt.subplots(1, 1, figsize=(6, 6))\n",
    "\n",
    "    corr = df.corr()\n",
    "    # make correlation matrix upper triangular as it is symmetric\n",
    "    corr_mask = np.triu(np.ones_like(corr, dtype=bool))\n",
    "\n",
    "    sns.set_theme(style=\"white\")\n",
    "    cmap = sns.diverging_palette(230, 20, as_cmap=True)\n",
    "    sns.heatmap(\n",
    "        corr,\n",
    "        annot=True,\n",
    "        mask=corr_mask,\n",
    "        cmap=cmap,\n",
    "        center=0,\n",
    "        square=True,\n",
    "        linewidths=0.5,\n",
    "        cbar_kws={\"shrink\": 0.5},\n",
    "        vmax=1,\n",
    "        vmin=-1,\n",
    "        ax=ax,\n",
    "        cbar=False,  # not plot_together or split_i == len(splits) - 1,\n",
    "        fmt=\".2f\",\n",
    "        annot_kws={\"fontsize\": 8},\n",
    "    )\n",
    "    src.utils.plotting.set_matplotlib_attributes(font_size=8)\n",
    "    ax.tick_params(axis=\"x\", labelrotation=45)\n",
    "    ax.set_xlabel(\"\")\n",
    "    ax.set_ylabel(\"\")\n",
    "    ax.set_title(split.capitalize(), fontsize=8)\n",
    "\n",
    "    if not plot_together or split_i == len(splits) - 1:\n",
    "        src.utils.plotting.set_figure_size(fig, column_span=12, height=\"same\")\n",
    "        src.utils.plotting.save_figure(fig, fig_path + f\"_{split}\")\n",
    "        plt.show()"
   ]
  },
  {
   "cell_type": "markdown",
   "metadata": {},
   "source": [
    "## Only target variable correlation across dataset"
   ]
  },
  {
   "cell_type": "code",
   "execution_count": null,
   "metadata": {},
   "outputs": [],
   "source": [
    "src.utils.plotting.set_matplotlib_attributes(font_size=8)\n",
    "covariate_names = src.utils.plotting.get_covariate_plot_names()\n",
    "target_variable = \"Nitrate out\"\n",
    "landscape = True\n",
    "\n",
    "fig_path = \"../figures/pilot/eda/feature_correlations_target\"\n",
    "splits = [\"train\", \"val\", \"test\"]\n",
    "\n",
    "# src.utils.plotting.set_figure_size(fig, column_span=\"double\" if plot_together else \"single\", height=6)\n",
    "corr_matrices = {}\n",
    "\n",
    "for split_i, split in enumerate(splits):\n",
    "    split_data = datamodule._get_split_data_raw(split)\n",
    "\n",
    "    if isinstance(split_data, list):\n",
    "        df = pd.concat(series.pd_dataframe() for series in split_data)\n",
    "    else:\n",
    "        df = split_data.pd_dataframe()\n",
    "\n",
    "    df = df.rename(columns=covariate_names)\n",
    "    corr_matrices[split] = df.corr()[target_variable][1:]\n",
    "    corr_matrices[split].index = corr_matrices[split].index.sort_values()\n",
    "\n",
    "corr = pd.DataFrame(corr_matrices)\n",
    "if landscape:\n",
    "    corr = corr.transpose()\n",
    "    fig_path += \"_landscape\"\n",
    "\n",
    "fig, ax = plt.subplots(1, 1, figsize=(6, 6))\n",
    "cmap = sns.diverging_palette(230, 20, as_cmap=True)\n",
    "sns.heatmap(\n",
    "    corr,\n",
    "    annot=True,\n",
    "    cmap=cmap,\n",
    "    center=0,\n",
    "    square=True,\n",
    "    linewidths=0.5,\n",
    "    cbar_kws={\"shrink\": 0.5},\n",
    "    vmax=1,\n",
    "    vmin=-1,\n",
    "    ax=ax,\n",
    "    cbar=False,  # not plot_together or split_i == len(splits) - 1,\n",
    "    fmt=\".2f\",\n",
    "    annot_kws={\"fontsize\": 8},\n",
    ")\n",
    "src.utils.plotting.set_matplotlib_attributes(font_size=8)\n",
    "ax.tick_params(axis=\"x\", labelrotation=45)\n",
    "ax.tick_params(axis=\"y\", labelrotation=0)\n",
    "ax.set_xlabel(\"\")\n",
    "ax.set_ylabel(\"\")\n",
    "ax.set_title(f\"{target_variable} correlations across datasets\", fontsize=8)\n",
    "\n",
    "src.utils.plotting.set_figure_size(fig, column_span=\"double\", height=6)\n",
    "src.utils.plotting.save_figure(fig, fig_path)\n",
    "plt.show()"
   ]
  },
  {
   "cell_type": "markdown",
   "metadata": {
    "pycharm": {
     "name": "#%% md\n"
    }
   },
   "source": [
    "### Cross Correlation in time"
   ]
  },
  {
   "cell_type": "code",
   "execution_count": null,
   "metadata": {
    "pycharm": {
     "name": "#%%\n"
    }
   },
   "outputs": [],
   "source": [
    "series_to_plot = {\"train\": \"all\"}\n",
    "max_lag = 16\n",
    "highlight_lag = 12\n",
    "\n",
    "\n",
    "def cross_correlation_func(ts1, ts2):\n",
    "    return darts.utils.statistics.plot_ccf(\n",
    "        ts1, ts2, max_lag=max_lag, m=highlight_lag, alpha=0.05, fig_size=(10, 5)\n",
    "    )  # cross-correlation function"
   ]
  },
  {
   "cell_type": "code",
   "execution_count": null,
   "metadata": {
    "pycharm": {
     "name": "#%%\n"
    }
   },
   "outputs": [],
   "source": [
    "_ = datamodule.call_function_on_pairs_of_univariate_series(\n",
    "    cross_correlation_func, series_to_plot, presenter=\"show\"\n",
    ")"
   ]
  },
  {
   "cell_type": "markdown",
   "metadata": {
    "pycharm": {
     "name": "#%% md\n"
    }
   },
   "source": [
    "### Cross Correlation in time"
   ]
  },
  {
   "cell_type": "code",
   "execution_count": null,
   "metadata": {
    "pycharm": {
     "name": "#%%\n"
    }
   },
   "outputs": [],
   "source": [
    "series_to_plot = {\"train\": \"all\"}\n",
    "max_lag = 16\n",
    "highlight_lag = 12\n",
    "\n",
    "\n",
    "def cross_correlation_func(ts1, ts2):\n",
    "    return darts.utils.statistics.plot_ccf(\n",
    "        ts1, ts2, max_lag=max_lag, m=highlight_lag, alpha=0.05, fig_size=(10, 5)\n",
    "    )  # cross-correlation function"
   ]
  },
  {
   "cell_type": "code",
   "execution_count": null,
   "metadata": {
    "pycharm": {
     "name": "#%%\n"
    }
   },
   "outputs": [],
   "source": [
    "_ = datamodule.call_function_on_pairs_of_univariate_series(\n",
    "    cross_correlation_func, series_to_plot, presenter=\"show\"\n",
    ")"
   ]
  }
 ],
 "metadata": {
  "kernelspec": {
   "display_name": "Python 3 (ipykernel)",
   "language": "python",
   "name": "python3"
  },
  "language_info": {
   "codemirror_mode": {
    "name": "ipython",
    "version": 3
   },
   "file_extension": ".py",
   "mimetype": "text/x-python",
   "name": "python",
   "nbconvert_exporter": "python",
   "pygments_lexer": "ipython3",
   "version": "3.9.16"
  }
 },
 "nbformat": 4,
 "nbformat_minor": 1
}
