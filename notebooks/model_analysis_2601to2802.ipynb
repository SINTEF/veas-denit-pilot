{
 "cells": [
  {
   "cell_type": "code",
   "execution_count": null,
   "metadata": {
    "pycharm": {
     "name": "#%%\n"
    }
   },
   "outputs": [],
   "source": [
    "%load_ext autoreload\n",
    "%autoreload 2"
   ]
  },
  {
   "cell_type": "code",
   "execution_count": null,
   "metadata": {
    "pycharm": {
     "name": "#%%\n"
    }
   },
   "outputs": [],
   "source": [
    "import os\n",
    "import glob\n",
    "\n",
    "import pyrootutils\n",
    "\n",
    "root = pyrootutils.setup_root(\n",
    "    search_from=os.getcwd(),\n",
    "    indicator=\".project-root\",\n",
    "    pythonpath=True,\n",
    "    dotenv=True,\n",
    ")"
   ]
  },
  {
   "cell_type": "code",
   "execution_count": null,
   "metadata": {
    "pycharm": {
     "name": "#%%\n"
    }
   },
   "outputs": [],
   "source": [
    "%matplotlib inline\n",
    "\n",
    "import hydra\n",
    "import omegaconf\n",
    "\n",
    "import src.eval\n",
    "import src.utils\n",
    "import src.utils.plotting\n",
    "\n",
    "import pandas as pd\n",
    "\n",
    "import seaborn as sns\n",
    "\n",
    "import numpy as np\n",
    "from sklearn.metrics import mean_squared_error as skmse\n",
    "from darts.metrics import mse\n",
    "from darts import concatenate\n",
    "\n",
    "from src.datamodules.veas_pilot_datamodule import get_input_dataframe\n",
    "\n",
    "import matplotlib.pyplot as plt\n",
    "import matplotlib.dates as mdates\n",
    "import matplotlib.patches as patches\n",
    "colors = [(0,0.4,1),(1,0.7,0.3),(0.2,0.7,0.2),(0.8,0,0.2),(0.5,0.3,.9),(0.9,0.7,.5),(.3,0.7,1)]"
   ]
  },
  {
   "cell_type": "markdown",
   "metadata": {
    "pycharm": {
     "name": "#%% md\n"
    }
   },
   "source": [
    "# Configuration"
   ]
  },
  {
   "cell_type": "code",
   "execution_count": null,
   "metadata": {},
   "outputs": [],
   "source": [
    "model_dir = [\n",
    "    \"logs/train/runs/2601to2802/2024-09-02_11-00-02\",\n",
    "]\n",
    "model_dir = [src.utils.hydra.get_absolute_project_path(md) for md in model_dir]"
   ]
  },
  {
   "cell_type": "code",
   "execution_count": null,
   "metadata": {
    "pycharm": {
     "name": "#%%\n"
    }
   },
   "outputs": [],
   "source": [
    "config_path = os.path.join(\n",
    "    \"..\", \"..\", \"configs\", \"eval.yaml\"\n",
    ")  # NB: relative to <project_root>/src/utils (must be relative path)\n",
    "\n",
    "config_overrides_dot = [  # same notation as for cli overrides (dot notation). Useful for changing whole modules, e.g. change which datamodule file is loaded\n",
    "    \"++extras.disable_pytorch_lightning_output=True\",\n",
    "    \"++eval.kwargs.show_warnings=False\",\n",
    "    #\"datamodule=\",\n",
    "]"
   ]
  },
  {
   "cell_type": "code",
   "execution_count": null,
   "metadata": {},
   "outputs": [],
   "source": [
    "cfg = []\n",
    "for md in model_dir:\n",
    "    config_overrides_dict = dict(\n",
    "        model_dir=md\n",
    "    ) # Dictionary with overrides. Useful for larger changes/additions/deletions that does not exist as entire files.\n",
    "\n",
    "    cfg.append(src.utils.initialize_hydra(\n",
    "        config_path,\n",
    "        config_overrides_dot,\n",
    "        config_overrides_dict,\n",
    "        return_hydra_config=True,\n",
    "        print_config=False,\n",
    "    ))  # print config to inspect if all settings are as expected"
   ]
  },
  {
   "cell_type": "code",
   "execution_count": null,
   "metadata": {
    "pycharm": {
     "name": "#%%\n"
    }
   },
   "outputs": [],
   "source": [
    "model_name = [None] * len(cfg)\n",
    "model = [None] * len(cfg)\n",
    "datamodule = [None] * len(cfg)\n",
    "trainer = [None] * len(cfg)\n",
    "logger = [None] * len(cfg)\n",
    "for idx, c in enumerate(cfg):\n",
    "    object_dict = src.utils.instantiate.instantiate_saved_objects(c)\n",
    "    model[idx], datamodule[idx], trainer[idx], logger[idx] = (\n",
    "        object_dict[\"model\"],\n",
    "        object_dict[\"datamodule\"],\n",
    "        object_dict.get(\"trainer\"),\n",
    "        object_dict.get(\"logger\"),\n",
    "    )\n",
    "    model_name[idx] = str(object_dict[\"model\"].__class__.__name__)"
   ]
  },
  {
   "cell_type": "code",
   "execution_count": null,
   "metadata": {
    "pycharm": {
     "name": "#%%\n"
    }
   },
   "outputs": [],
   "source": [
    "for c in cfg:\n",
    "    with omegaconf.open_dict(c):\n",
    "        c.eval.kwargs.forecast_horizon = 1\n",
    "        c.eval.kwargs.stride = 1\n",
    "        c.eval.plot.every_n_prediction = 1\n",
    "        c.eval.predictions = {\"return\": {\"data\": True}}\n",
    "        c.eval.plot.presenter = [\n",
    "            \"show\",\n",
    "            \"savefig\",\n",
    "        ]  # set presenter to \"show\" to show figures in output, and \"savefig\" to save them to the model_dir"
   ]
  },
  {
   "cell_type": "markdown",
   "metadata": {
    "pycharm": {
     "name": "#%% md\n"
    }
   },
   "source": [
    "# Evaluate\n",
    "The src.eval.run function returns the configured metrics over the evaluated split."
   ]
  },
  {
   "cell_type": "code",
   "execution_count": null,
   "metadata": {
    "pycharm": {
     "name": "#%%\n"
    },
    "scrolled": false
   },
   "outputs": [],
   "source": [
    "eval_object_dict = [None] * len(cfg)\n",
    "for idx, c in enumerate(cfg):\n",
    "    metric_dict, eval_object_dict[idx] = src.eval.run(c, datamodule[idx], model[idx], trainer[idx], logger[idx])"
   ]
  },
  {
   "cell_type": "code",
   "execution_count": null,
   "metadata": {},
   "outputs": [],
   "source": [
    "fig = plt.figure(figsize=(12,4.5))\n",
    "plt.plot(eval_object_dict[0]['predictions_data']['series'].time_index, eval_object_dict[0]['predictions_data']['series'].all_values().squeeze(), color='k', label='Measured nitrate')\n",
    "for idx, obj in enumerate(eval_object_dict):\n",
    "    plt.plot(obj['predictions'].time_index, obj['predictions'].all_values().squeeze(), color=colors[idx], label=model_name[idx])\n",
    "plt.legend(fontsize=12, loc='upper center', bbox_to_anchor=(0.5, -0.2), ncol=3)\n",
    "plt.show()"
   ]
  },
  {
   "cell_type": "code",
   "execution_count": null,
   "metadata": {},
   "outputs": [],
   "source": [
    "val_targets = eval_object_dict[0]['predictions_data']['series'].all_values().squeeze()\n",
    "time_series_list = datamodule[0].get_data(['target'], main_split='train', transform=False)['target']\n",
    "concatenated_series = concatenate(time_series_list, axis='time', ignore_time_axis=True)\n",
    "train_mean = concatenated_series.all_values().squeeze().mean()\n",
    "val_train_mean = train_mean*np.ones_like(val_targets)"
   ]
  },
  {
   "cell_type": "code",
   "execution_count": null,
   "metadata": {},
   "outputs": [],
   "source": [
    "errors = []\n",
    "labels = []\n",
    "\n",
    "train_error = skmse(val_targets, val_train_mean)\n",
    "errors.append(train_error)\n",
    "labels.append('Train set mean')\n",
    "print('MSEs:')\n",
    "print('Train set mean: {:.2f}'.format(skmse(val_targets, val_train_mean)))\n",
    "\n",
    "for idx, obj in enumerate(eval_object_dict):\n",
    "    val_common = eval_object_dict[0]['predictions_data']['series'].slice_intersect(obj['predictions'])\n",
    "    val_targets_aligned = eval_object_dict[0]['predictions_data']['series'].slice(val_common.start_time(), val_common.end_time())\n",
    "    val_predictions_aligned = obj['predictions'].slice(val_common.start_time(), val_common.end_time())\n",
    "    model_error = mse(val_targets_aligned, val_predictions_aligned)\n",
    "    print('{}: {:.2f}'.format(model_name[idx], model_error))\n",
    "    errors.append(model_error)\n",
    "    labels.append(model_name[idx])\n",
    "\n",
    "plt.figure(figsize=(5, 3))\n",
    "plt.bar(labels, errors, color='skyblue')\n",
    "plt.ylabel('MSE')\n",
    "plt.xticks(rotation=45, ha=\"right\")\n",
    "plt.tight_layout()\n",
    "plt.show()"
   ]
  },
  {
   "cell_type": "markdown",
   "metadata": {},
   "source": [
    "Plotting for the paper:"
   ]
  },
  {
   "cell_type": "code",
   "execution_count": null,
   "metadata": {},
   "outputs": [],
   "source": [
    "def plot_interval(start_time, end_time, remove=[]):\n",
    "    src.utils.plotting.set_matplotlib_attributes()\n",
    "    sliced_measured = eval_object_dict[0]['predictions_data']['series'].slice(pd.Timestamp(start_time), pd.Timestamp(end_time))\n",
    "    sliced_dict = {}\n",
    "    for idx, obj in enumerate(eval_object_dict):\n",
    "        sliced_dict[model_name[idx]] = obj['predictions'].slice(pd.Timestamp(start_time), pd.Timestamp(end_time))\n",
    "        \n",
    "    fig, ax = plt.subplots()\n",
    "    plt.plot(sliced_measured.time_index, sliced_measured.all_values().squeeze(), label='Measured nitrate', linewidth=1)\n",
    "    for idx, model in enumerate(model_name):\n",
    "        if not model in remove:\n",
    "            plt.plot(sliced_dict[model].time_index, sliced_dict[model].all_values().squeeze(), label='Nowcast w/ TCN', linewidth=1)\n",
    "    \n",
    "    # Add first red dashed rectangle\n",
    "    rect1 = patches.Rectangle(\n",
    "        (mdates.date2num(pd.Timestamp('2024-02-04 02:00:00')), 2.5),  # bottom-left corner\n",
    "        mdates.date2num(pd.Timestamp('2024-02-04 14:00:00')) - mdates.date2num(pd.Timestamp('2024-02-04 02:00:00')),  # width\n",
    "        11.5 - 2.5,  # height\n",
    "        linewidth=1,\n",
    "        edgecolor='r',\n",
    "        facecolor='none',\n",
    "        linestyle='--'\n",
    "    )\n",
    "    ax.add_patch(rect1)\n",
    "    \n",
    "    # Add second red dashed rectangle\n",
    "    rect2 = patches.Rectangle(\n",
    "        (mdates.date2num(pd.Timestamp('2024-02-25 12:00:00')), 1.0),  # bottom-left corner\n",
    "        mdates.date2num(pd.Timestamp('2024-02-26 03:00:00')) - mdates.date2num(pd.Timestamp('2024-02-25 12:00:00')),  # width\n",
    "        9.0 - 1.0,  # height\n",
    "        linewidth=1,\n",
    "        edgecolor='r',\n",
    "        facecolor='none',\n",
    "        linestyle='--'\n",
    "    )\n",
    "    ax.add_patch(rect2)\n",
    "    \n",
    "    ax.xaxis.set_major_locator(mdates.AutoDateLocator())\n",
    "    ax.xaxis.set_major_formatter(mdates.DateFormatter('%Y-%m-%d')) \n",
    "    plt.gcf().autofmt_xdate()\n",
    "    plt.legend()\n",
    "    ax.set_ylabel(\"Nitrate concentration [mg/l]\")\n",
    "    src.utils.plotting.set_figure_size(fig, column_span=\"double\", height=6)\n",
    "    src.utils.plotting.save_figure(fig, \"../figures/pilot/analyzing_tcn\")\n",
    "    plt.show()"
   ]
  },
  {
   "cell_type": "code",
   "execution_count": null,
   "metadata": {},
   "outputs": [],
   "source": [
    "start_time = '2024-01-31 00:00:00'\n",
    "end_time = '2024-02-29 00:00:00'\n",
    "plot_interval(start_time, end_time)"
   ]
  },
  {
   "cell_type": "code",
   "execution_count": null,
   "metadata": {},
   "outputs": [],
   "source": [
    "input_df, output_df = get_input_dataframe(source='data/denit_pilot_b_240527.csv', hour_average=False, include_controlled=True)\n",
    "\n",
    "output_df = output_df[input_df['operational']]\n",
    "input_df = input_df[input_df['operational']]\n",
    "input_df = input_df.drop(columns=['operational'])\n",
    "\n",
    "input_df.index = input_df.time\n",
    "input_df = input_df.drop(columns='time')\n",
    "output_df['time'] = pd.to_datetime(output_df['time'], dayfirst=True)\n",
    "output_df.index = output_df.time\n",
    "output_df = output_df.drop(columns='time')\n",
    "\n",
    "all_df = pd.concat([input_df, output_df], axis=1)"
   ]
  },
  {
   "cell_type": "code",
   "execution_count": null,
   "metadata": {},
   "outputs": [],
   "source": [
    "fig = plt.figure(figsize=(10,3))\n",
    "plt.plot(all_df['nitrate_out'][start_time:end_time], label='nitrate_out')\n",
    "plt.plot(input_df['nitrate_in'][start_time:end_time], color=colors[3], label='nitrate_in')\n",
    "plt.legend(fontsize=12)\n",
    "plt.show()"
   ]
  },
  {
   "cell_type": "code",
   "execution_count": null,
   "metadata": {},
   "outputs": [],
   "source": [
    "fig = plt.figure(figsize=(10,3))\n",
    "plt.plot((all_df['nitrate_out']/input_df['nitrate_in'])[start_time:end_time], color=colors[0], label='nitrate_out/nitrate_in')\n",
    "plt.legend(fontsize=12)\n",
    "plt.show()"
   ]
  },
  {
   "cell_type": "code",
   "execution_count": null,
   "metadata": {},
   "outputs": [],
   "source": [
    "fig = plt.figure(figsize=(10,3))\n",
    "plt.plot(all_df['nitrate_out'][start_time:end_time], label='nitrate_out')\n",
    "plt.plot(.2*input_df['methanol'][start_time:end_time], color=colors[3], label='methanol')\n",
    "plt.legend(fontsize=12)\n",
    "plt.show()"
   ]
  },
  {
   "cell_type": "code",
   "execution_count": null,
   "metadata": {},
   "outputs": [],
   "source": [
    "fig = plt.figure(figsize=(10,3))\n",
    "plt.plot(input_df['nitrate_in'][start_time:end_time], color=colors[1], label='nitrate_in')\n",
    "plt.plot(1.3*input_df['methanol'][start_time:end_time], color=colors[3], label='methanol')\n",
    "plt.legend(fontsize=12)\n",
    "plt.show()"
   ]
  },
  {
   "cell_type": "code",
   "execution_count": null,
   "metadata": {},
   "outputs": [],
   "source": [
    "fig = plt.figure(figsize=(10,3))\n",
    "plt.plot((input_df['methanol']/input_df['nitrate_in'])[start_time:end_time], color=colors[0], label='methanol/nitrate_in')\n",
    "plt.legend(fontsize=12)\n",
    "plt.show()"
   ]
  },
  {
   "cell_type": "code",
   "execution_count": null,
   "metadata": {},
   "outputs": [],
   "source": [
    "fig = plt.figure(figsize=(10,3))\n",
    "plt.plot(all_df['nitrate_out'][start_time:end_time], label='nitrate_out')\n",
    "plt.plot(input_df['oxygen'][start_time:end_time], color=colors[3], label='oxygen')\n",
    "plt.legend(fontsize=12)\n",
    "plt.show()"
   ]
  },
  {
   "cell_type": "code",
   "execution_count": null,
   "metadata": {},
   "outputs": [],
   "source": [
    "fig = plt.figure(figsize=(10,3))\n",
    "plt.plot(all_df['nitrate_out'][start_time:end_time], label='nitrate_out')\n",
    "plt.plot(input_df['ammonium'][start_time:end_time], color=colors[3], label='ammonium')\n",
    "plt.legend(fontsize=12)\n",
    "plt.show()"
   ]
  },
  {
   "cell_type": "code",
   "execution_count": null,
   "metadata": {},
   "outputs": [],
   "source": [
    "fig = plt.figure(figsize=(10,3))\n",
    "plt.plot(all_df['nitrate_out'][start_time:end_time], label='nitrate_out')\n",
    "plt.plot(10*input_df['orto-p'][start_time:end_time], color=colors[3], label='orto-p')\n",
    "plt.legend(fontsize=12)\n",
    "plt.show()"
   ]
  },
  {
   "cell_type": "code",
   "execution_count": null,
   "metadata": {},
   "outputs": [],
   "source": [
    "fig = plt.figure(figsize=(10,3))\n",
    "plt.plot(all_df['nitrate_out'][start_time:end_time], label='nitrate_out')\n",
    "plt.plot(input_df['temp'][start_time:end_time]-10, color=colors[3], label='temp')\n",
    "plt.legend(fontsize=12)\n",
    "plt.show()"
   ]
  },
  {
   "cell_type": "code",
   "execution_count": null,
   "metadata": {},
   "outputs": [],
   "source": [
    "fig = plt.figure(figsize=(10,3))\n",
    "plt.plot(all_df['nitrate_out'][start_time:end_time], label='nitrate_out')\n",
    "plt.plot(.2*input_df['turb'][start_time:end_time], color=colors[3], label='turb')\n",
    "plt.legend(fontsize=12)\n",
    "plt.show()"
   ]
  },
  {
   "cell_type": "code",
   "execution_count": null,
   "metadata": {},
   "outputs": [],
   "source": [
    "fig = plt.figure(figsize=(10,3))\n",
    "plt.plot(all_df['nitrate_out'][start_time:end_time], label='nitrate_out')\n",
    "plt.plot(.001*input_df['tunnelwater'][start_time:end_time], color=colors[3], label='tunnelwater')\n",
    "plt.legend(fontsize=12)\n",
    "plt.show()"
   ]
  },
  {
   "cell_type": "code",
   "execution_count": null,
   "metadata": {},
   "outputs": [],
   "source": [
    "fig = plt.figure(figsize=(10,3))\n",
    "plt.plot(all_df['nitrate_out'][start_time:end_time], label='nitrate_out')\n",
    "plt.plot(30*input_df['filterpressure_1'][start_time:end_time]-15, color=colors[3], label='filterpressure_1')\n",
    "plt.legend(fontsize=12)\n",
    "plt.show()"
   ]
  },
  {
   "cell_type": "code",
   "execution_count": null,
   "metadata": {},
   "outputs": [],
   "source": [
    "fig = plt.figure(figsize=(10,3))\n",
    "plt.plot(all_df['nitrate_out'][start_time:end_time], label='nitrate_out')\n",
    "plt.plot(30*input_df['filterpressure_8'][start_time:end_time], color=colors[3], label='filterpressure_8')\n",
    "plt.legend(fontsize=12)\n",
    "plt.show()"
   ]
  },
  {
   "cell_type": "markdown",
   "metadata": {},
   "source": [
    "## Analyzing the input data in the interesting periods"
   ]
  },
  {
   "cell_type": "code",
   "execution_count": null,
   "metadata": {},
   "outputs": [],
   "source": [
    "def plot_interval(start_time, end_time, remove=[]):\n",
    "    sliced_measured = eval_object_dict[0]['predictions_data']['series'].slice(pd.Timestamp(start_time), pd.Timestamp(end_time))\n",
    "    sliced_dict = {}\n",
    "    for idx, obj in enumerate(eval_object_dict):\n",
    "        sliced_dict[model_name[idx]] = obj['predictions'].slice(pd.Timestamp(start_time), pd.Timestamp(end_time))\n",
    "        \n",
    "    fig = plt.figure(figsize=(12,4))\n",
    "    plt.plot(sliced_measured.time_index, sliced_measured.all_values().squeeze(), color='k', label='Measured nitrate')\n",
    "    for idx, model in enumerate(model_name):\n",
    "        if not model in remove:\n",
    "            plt.plot(sliced_dict[model].time_index, sliced_dict[model].all_values().squeeze(), color=colors[idx], label=model)\n",
    "    plt.legend(fontsize=12, loc='upper center', bbox_to_anchor=(0.5, -0.2), ncol=3)\n",
    "    plt.show()"
   ]
  },
  {
   "cell_type": "code",
   "execution_count": null,
   "metadata": {},
   "outputs": [],
   "source": [
    "start_time = '2024-01-26 00:00:00'\n",
    "end_time = '2024-02-29 00:00:00'\n",
    "plot_interval(start_time, end_time)"
   ]
  },
  {
   "cell_type": "code",
   "execution_count": null,
   "metadata": {},
   "outputs": [],
   "source": [
    "start_time = '2024-02-20 00:00:00'\n",
    "end_time = '2024-02-29 00:00:00'"
   ]
  },
  {
   "cell_type": "code",
   "execution_count": null,
   "metadata": {},
   "outputs": [],
   "source": [
    "src.utils.plotting.set_matplotlib_attributes()\n",
    "plt.rcParams['legend.edgecolor'] = 'black'\n",
    "plt.rcParams['legend.facecolor'] = 'white'\n",
    "\n",
    "sliced_measured = eval_object_dict[0]['predictions_data']['series'].slice(pd.Timestamp(start_time), pd.Timestamp(end_time))\n",
    "\n",
    "sliced_dict = {}\n",
    "\n",
    "for idx, obj in enumerate(eval_object_dict):\n",
    "    sliced_dict[model_name[idx]] = obj['predictions'].slice(pd.Timestamp(start_time), pd.Timestamp(end_time))\n",
    "\n",
    "fig, ax = plt.subplots(figsize=(17/34*5.9488188976377945, 2.3622047244094486))\n",
    "#fig, ax = plt.subplots(figsize=(18/34*5.9488188976377945, 2.3622047244094486))\n",
    "\n",
    "plt.plot(all_df['nitrate_out'][start_time:end_time], label='Measured nitrate', linewidth=1)\n",
    "plt.plot(0.2 * input_df['methanol'][start_time:end_time], color=colors[2], label='Added methanol', linewidth=1)\n",
    "\n",
    "# Custom x-axis formatting to increase spacing between labels and remove the year\n",
    "ax.xaxis.set_major_locator(mdates.DayLocator(interval=2))  # Adjust interval as necessary\n",
    "ax.xaxis.set_major_formatter(mdates.DateFormatter('%m-%d'))  # Month and day only\n",
    "plt.gcf().autofmt_xdate(rotation=45)  # Rotate labels for better readability\n",
    "\n",
    "# Remove the y-axis label and ticks\n",
    "ax.set_yticks([])\n",
    "ax.set_ylabel('')\n",
    "\n",
    "# Move legend to the top-left corner with a white background and black border\n",
    "legend = plt.legend(\n",
    "    loc='upper left',\n",
    "    fancybox=False,\n",
    "    framealpha=1,\n",
    "    shadow=False,\n",
    "    borderpad=.4\n",
    ")\n",
    "legend.get_frame().set_linewidth(0.5)\n",
    "\n",
    "# Save the figure\n",
    "src.utils.plotting.save_figure(fig, \"../figures/pilot/methanol\")\n",
    "plt.show()\n",
    "\n"
   ]
  },
  {
   "cell_type": "code",
   "execution_count": null,
   "metadata": {},
   "outputs": [],
   "source": [
    "start_time = '2024-02-02 00:00:00'\n",
    "end_time = '2024-02-11 00:00:00'"
   ]
  },
  {
   "cell_type": "code",
   "execution_count": null,
   "metadata": {},
   "outputs": [],
   "source": [
    "src.utils.plotting.set_matplotlib_attributes()\n",
    "plt.rcParams['legend.edgecolor'] = 'black'\n",
    "plt.rcParams['legend.facecolor'] = 'white'\n",
    "legend.get_frame().set_linewidth(0.5)\n",
    "\n",
    "sliced_measured = eval_object_dict[0]['predictions_data']['series'].slice(pd.Timestamp(start_time), pd.Timestamp(end_time))\n",
    "\n",
    "sliced_dict = {}\n",
    "\n",
    "for idx, obj in enumerate(eval_object_dict):\n",
    "    sliced_dict[model_name[idx]] = obj['predictions'].slice(pd.Timestamp(start_time), pd.Timestamp(end_time))\n",
    "\n",
    "fig, ax = plt.subplots(figsize=(17/34*5.9488188976377945, 2.3622047244094486))\n",
    "#fig, ax = plt.subplots(figsize=(18/34*5.9488188976377945, 2.3622047244094486))\n",
    "\n",
    "plt.plot(all_df['nitrate_out'][start_time:end_time], label='Measured nitrate', linewidth=1)\n",
    "plt.plot(1+.2*input_df['turb'][start_time:end_time], color=colors[3], label='Measured turbidity', linewidth=1)\n",
    "plt.plot(30*input_df['filterpressure_8'][start_time:end_time], color=colors[1], label='Pressure above reactor', linewidth=1)\n",
    "\n",
    "# Custom x-axis formatting to increase spacing between labels and remove the year\n",
    "ax.xaxis.set_major_locator(mdates.DayLocator(interval=2))  # Adjust interval as necessary\n",
    "ax.xaxis.set_major_formatter(mdates.DateFormatter('%m-%d'))  # Month and day only\n",
    "plt.gcf().autofmt_xdate(rotation=45)  # Rotate labels for better readability\n",
    "\n",
    "# Remove the y-axis label and ticks\n",
    "ax.set_yticks([])\n",
    "ax.set_ylabel('')\n",
    "\n",
    "# Move legend to the top-left corner with a white background and black border\n",
    "legend = plt.legend(\n",
    "    loc='upper right',\n",
    "    fancybox=False,\n",
    "    framealpha=1,\n",
    "    shadow=False,\n",
    "    borderpad=.4\n",
    ")\n",
    "legend.get_frame().set_linewidth(0.5)\n",
    "\n",
    "# Save the figure\n",
    "src.utils.plotting.save_figure(fig, \"../figures/pilot/turb_pressure\")\n",
    "plt.show()"
   ]
  }
 ],
 "metadata": {
  "kernelspec": {
   "display_name": "tsenv",
   "language": "python",
   "name": "python3"
  },
  "language_info": {
   "codemirror_mode": {
    "name": "ipython",
    "version": 3
   },
   "file_extension": ".py",
   "mimetype": "text/x-python",
   "name": "python",
   "nbconvert_exporter": "python",
   "pygments_lexer": "ipython3",
   "version": "3.10.9"
  }
 },
 "nbformat": 4,
 "nbformat_minor": 1
}
